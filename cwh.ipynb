{
 "cells": [
  {
   "cell_type": "code",
   "execution_count": 1,
   "id": "22ace5c1",
   "metadata": {},
   "outputs": [
    {
     "name": "stdout",
     "output_type": "stream",
     "text": [
      "30\n"
     ]
    }
   ],
   "source": [
    "\"\"\"To add two number\"\"\"\n",
    "a = 10\n",
    "b = 20\n",
    "print(a+b)"
   ]
  },
  {
   "cell_type": "code",
   "execution_count": 3,
   "id": "023575bc",
   "metadata": {},
   "outputs": [
    {
     "name": "stdout",
     "output_type": "stream",
     "text": [
      "3\n",
      "8\n"
     ]
    }
   ],
   "source": [
    "\"\"\"WAP for divide and reminder \"\"\"\n",
    "a = 50\n",
    "b = 14\n",
    "print(a//b)\n",
    "print(a%b)"
   ]
  },
  {
   "cell_type": "code",
   "execution_count": 1,
   "id": "30ca70b7",
   "metadata": {},
   "outputs": [
    {
     "name": "stdout",
     "output_type": "stream",
     "text": [
      "enter a number:dd\n",
      "dd\n"
     ]
    },
    {
     "ename": "ValueError",
     "evalue": "invalid literal for int() with base 10: 'dd'",
     "output_type": "error",
     "traceback": [
      "\u001b[1;31m---------------------------------------------------------------------------\u001b[0m",
      "\u001b[1;31mValueError\u001b[0m                                Traceback (most recent call last)",
      "\u001b[1;32m~\\AppData\\Local\\Temp/ipykernel_5164/4057313387.py\u001b[0m in \u001b[0;36m<module>\u001b[1;34m\u001b[0m\n\u001b[0;32m      2\u001b[0m \u001b[0mprint\u001b[0m\u001b[1;33m(\u001b[0m\u001b[0ma\u001b[0m\u001b[1;33m)\u001b[0m\u001b[1;33m\u001b[0m\u001b[1;33m\u001b[0m\u001b[0m\n\u001b[0;32m      3\u001b[0m \u001b[0mtype\u001b[0m\u001b[1;33m(\u001b[0m\u001b[0ma\u001b[0m\u001b[1;33m)\u001b[0m\u001b[1;33m\u001b[0m\u001b[1;33m\u001b[0m\u001b[0m\n\u001b[1;32m----> 4\u001b[1;33m \u001b[0mint\u001b[0m\u001b[1;33m(\u001b[0m\u001b[0ma\u001b[0m\u001b[1;33m)\u001b[0m\u001b[1;33m\u001b[0m\u001b[1;33m\u001b[0m\u001b[0m\n\u001b[0m",
      "\u001b[1;31mValueError\u001b[0m: invalid literal for int() with base 10: 'dd'"
     ]
    }
   ],
   "source": [
    "a = input(\"enter a number:\")\n",
    "print(a)\n",
    "type(a)\n",
    "int(a)"
   ]
  },
  {
   "cell_type": "code",
   "execution_count": null,
   "id": "d5758d7a",
   "metadata": {},
   "outputs": [],
   "source": [
    "\"\"\"How to make integer of string\"\"\"\n",
    "a = input(\"enter a number:\")\n",
    "print(a)\n",
    "type(a)\n",
    "int(a)"
   ]
  },
  {
   "cell_type": "code",
   "execution_count": 1,
   "id": "a3e116c5",
   "metadata": {},
   "outputs": [
    {
     "name": "stdout",
     "output_type": "stream",
     "text": [
      "Enter first number:67\n",
      "Enter second number:75\n",
      "the average value of a and b is:  71.0\n"
     ]
    }
   ],
   "source": [
    "\"\"\"\"to find the average of two number\"\"\"\"\n",
    "a = int(input(\"Enter first number:\"))\n",
    "b = int(input(\"Enter second number:\"))\n",
    "avg = (a+b)/2\n",
    "print(\"the average value of a and b is: \",avg)\n"
   ]
  },
  {
   "cell_type": "code",
   "execution_count": 10,
   "id": "509b700a",
   "metadata": {},
   "outputs": [
    {
     "name": "stdout",
     "output_type": "stream",
     "text": [
      "harsh\n",
      "h\n",
      "harshv\n",
      "rshva\n",
      "\n",
      "hrha\n"
     ]
    }
   ],
   "source": [
    "\"\"\"string indexing or slicing\"\"\"\n",
    "Name = \"harshvardhan\"\n",
    "print(Name[0:5])\n",
    "print(Name[0])\n",
    "print(Name[:6])\n",
    "print(Name[2:7])\n",
    "print(Name[-1:-7])\n",
    "print(Name[0:8:2]) #skip"
   ]
  },
  {
   "cell_type": "code",
   "execution_count": 1,
   "id": "68ead4e6",
   "metadata": {},
   "outputs": [
    {
     "name": "stdout",
     "output_type": "stream",
     "text": [
      "31\n"
     ]
    }
   ],
   "source": [
    "\"\"\"string function\"\"\"\n",
    "movie = \"once upo a time in mumbai again\"\n",
    "print(len(movie))                        #length of string\n",
    "# print(movie.endswith(\"again\"))           # For string end with\n",
    "# print(movie.count(\"a\"))                  #for count number of same string\n",
    "# print(movie.capitalize())                #for capitalize first latter of string\n",
    "# print(movie.find(\"once\"))                #for find a word in string\n",
    "# print(movie.replace(\"mumbai\",\"delhi\"))     #for replace word"
   ]
  },
  {
   "cell_type": "code",
   "execution_count": 29,
   "id": "90272dd3",
   "metadata": {},
   "outputs": [
    {
     "name": "stdout",
     "output_type": "stream",
     "text": [
      "div'ya is a int\\elligent girl.\n",
      "she can crack the\texam\n"
     ]
    }
   ],
   "source": [
    "\"\"\"escape sequences\"\"\"\n",
    "story = \"div\\'ya is a int\\\\elligent girl.\\nshe can crack the\\texam\"\n",
    "print(story)\n",
    "\n"
   ]
  },
  {
   "cell_type": "code",
   "execution_count": 34,
   "id": "cd505f3b",
   "metadata": {},
   "outputs": [
    {
     "name": "stdout",
     "output_type": "stream",
     "text": [
      "Enter your nameanil\n",
      "good afternoon, anil\n"
     ]
    }
   ],
   "source": [
    "#wap to print good morning and take input user name\n",
    "name = input(\"Enter your name\")\n",
    "print(\"good afternoon, \"+name)"
   ]
  },
  {
   "cell_type": "code",
   "execution_count": 5,
   "id": "5539f019",
   "metadata": {},
   "outputs": [
    {
     "name": "stdout",
     "output_type": "stream",
     "text": [
      "Enterb your nameAnil\n"
     ]
    },
    {
     "ename": "AttributeError",
     "evalue": "'str' object has no attribute 'rep'",
     "output_type": "error",
     "traceback": [
      "\u001b[1;31m---------------------------------------------------------------------------\u001b[0m",
      "\u001b[1;31mAttributeError\u001b[0m                            Traceback (most recent call last)",
      "\u001b[1;32m~\\AppData\\Local\\Temp/ipykernel_10852/1854396292.py\u001b[0m in \u001b[0;36m<module>\u001b[1;34m\u001b[0m\n\u001b[0;32m      5\u001b[0m <|Date|>'''\n\u001b[0;32m      6\u001b[0m \u001b[0mname\u001b[0m \u001b[1;33m=\u001b[0m \u001b[0minput\u001b[0m\u001b[1;33m(\u001b[0m \u001b[1;34m\"Enterb your name\"\u001b[0m\u001b[1;33m)\u001b[0m\u001b[1;33m\u001b[0m\u001b[1;33m\u001b[0m\u001b[0m\n\u001b[1;32m----> 7\u001b[1;33m \u001b[0mletter\u001b[0m \u001b[1;33m=\u001b[0m \u001b[0mletter\u001b[0m\u001b[1;33m.\u001b[0m\u001b[0mrep\u001b[0m\u001b[1;33m\u001b[0m\u001b[1;33m\u001b[0m\u001b[0m\n\u001b[0m\u001b[0;32m      8\u001b[0m \u001b[0mlace\u001b[0m\u001b[1;33m(\u001b[0m\u001b[1;34m\"<|Name|>\"\u001b[0m\u001b[1;33m,\u001b[0m\u001b[0mname\u001b[0m \u001b[1;33m)\u001b[0m\u001b[1;33m\u001b[0m\u001b[1;33m\u001b[0m\u001b[0m\n\u001b[0;32m      9\u001b[0m \u001b[0mdate\u001b[0m \u001b[1;33m=\u001b[0m \u001b[0minput\u001b[0m\u001b[1;33m(\u001b[0m\u001b[1;34m\"Enter date\\n\"\u001b[0m\u001b[1;33m)\u001b[0m\u001b[1;33m\u001b[0m\u001b[1;33m\u001b[0m\u001b[0m\n",
      "\u001b[1;31mAttributeError\u001b[0m: 'str' object has no attribute 'rep'"
     ]
    }
   ],
   "source": [
    "#Wap to print latter in which we have to take name and date to the user.\n",
    "letter = '''Dear <|Name|>,\n",
    "its greeting to inform you that you selected for tcs!\n",
    "\n",
    "<|Date|>'''\n",
    "name = input( \"Enter your name\")\n",
    "letter = letter.rep\n",
    "lace(\"<|Name|>\",name )\n",
    "date = input(\"Enter date\\n\")\n",
    "letter = letter.replace(\"<|Date|>\", date)\n",
    "print(letter)"
   ]
  },
  {
   "cell_type": "code",
   "execution_count": 4,
   "id": "495a5aeb",
   "metadata": {},
   "outputs": [
    {
     "name": "stdout",
     "output_type": "stream",
     "text": [
      "4\n"
     ]
    }
   ],
   "source": [
    "#write program to print double space\n",
    "st = \"this  is not joke \"\n",
    "doubleSpaces = st.find(\"  \")\n",
    "print(doubleSpaces)\n"
   ]
  },
  {
   "cell_type": "code",
   "execution_count": null,
   "id": "589e3e7e",
   "metadata": {},
   "outputs": [],
   "source": [
    "#replces double space3 with single space\n",
    "st = \"this  is not joke \"\n",
    "st = st.replace(\"  \",\" \")\n",
    "print(st)\n"
   ]
  },
  {
   "cell_type": "code",
   "execution_count": 10,
   "id": "3c531513",
   "metadata": {},
   "outputs": [
    {
     "name": "stdout",
     "output_type": "stream",
     "text": [
      "twinkle twinkle little star! \n",
      "how are wonder what you are\n"
     ]
    }
   ],
   "source": [
    "#farmat change\n",
    "letter = \"twinkle twinkle little star! \\nhow are wonder what you are\"\n",
    "print(letter)\n",
    "     # OR\n"
   ]
  },
  {
   "cell_type": "code",
   "execution_count": 14,
   "id": "9a06c5f5",
   "metadata": {},
   "outputs": [
    {
     "name": "stdout",
     "output_type": "stream",
     "text": [
      "[1, 2, 3, 4, 5]\n",
      "1\n",
      "[44, 2, 3, 4, 5]\n",
      "[11, 11.1, 'roshan', False]\n",
      "['sumit', 'Divya', 'roshan', 'Pihu', 'rohit', 55]\n"
     ]
    }
   ],
   "source": [
    "#list\n",
    "\n",
    "# create a list using [] \n",
    "a = [1 , 2, 3, 4, 5,]\n",
    "print(a)\n",
    "\n",
    "#acces list using like a[0],a[1] \n",
    "print(a[0])\n",
    "\n",
    "# change the value of list\n",
    "a[0]= 44\n",
    "print(a)\n",
    "\n",
    "# we can create using str,int,boolean,float\n",
    "a = [11,11.1,\"roshan\",False]\n",
    "print(a)\n",
    "\n",
    "# list slicing\n",
    "\n",
    "people = [\"sumit\",\"Divya\", \"roshan\", \"Pihu\", \"rohit\" ,55]\n",
    "print(people[0:6])\n"
   ]
  },
  {
   "cell_type": "code",
   "execution_count": 23,
   "id": "28e79297",
   "metadata": {},
   "outputs": [
    {
     "name": "stdout",
     "output_type": "stream",
     "text": [
      "[33, 44, 1, 3445, 66, 35, 34]\n",
      "[33, 44, 1, 3445, 66, 35, 34]\n"
     ]
    }
   ],
   "source": [
    "# list function \n",
    "\n",
    "list = [33,44,1,3445,66,35,34]\n",
    "print(list)\n",
    "\n",
    "# list.sort()   #for sorted list\n",
    "\n",
    "# list.reverse()  #for reverse thelist \n",
    "\n",
    "# list.append(99)  #for adding\n",
    "\n",
    "# list.insert(4,88) # insert value at particular no.\n",
    "\n",
    "# list.pop(3)  # remove index at index 3\n",
    "\n",
    "# list.remove(3445) # remove 3445 from the list\n",
    "print(list)\n"
   ]
  },
  {
   "cell_type": "code",
   "execution_count": 27,
   "id": "97ecb993",
   "metadata": {},
   "outputs": [
    {
     "name": "stdout",
     "output_type": "stream",
     "text": [
      "(1,)\n"
     ]
    }
   ],
   "source": [
    "#  tuple using ()\n",
    "t = (1,2,3,4,5)\n",
    "# t1 = (1)wrong way to declare a tuple with single element\n",
    "t1 = (1,) #tuple with single element \n",
    "print(t1)\n",
    "#  *** we can not update the value of a tuple"
   ]
  },
  {
   "cell_type": "code",
   "execution_count": 29,
   "id": "8700d36a",
   "metadata": {},
   "outputs": [
    {
     "name": "stdout",
     "output_type": "stream",
     "text": [
      "3\n",
      "1\n"
     ]
    }
   ],
   "source": [
    "#  Tuple methods \n",
    "t = (1,2,3,4,5,6,7,1,2,1,4)\n",
    "print(t.count(1))\n",
    "print(t.index(2))"
   ]
  },
  {
   "cell_type": "code",
   "execution_count": 4,
   "id": "78ded47e",
   "metadata": {},
   "outputs": [
    {
     "name": "stdout",
     "output_type": "stream",
     "text": [
      "enter the fruit number 1: rett\n",
      "enter the fruit number 2: rtyry\n",
      "enter the fruit number 3: rtrt\n",
      "enter the fruit number 4: rtrt\n",
      "enter the fruit number 5: tyth\n",
      "enter the fruit number 6: ererfd\n",
      "enter the fruit number 7: trgf\n",
      "['rett', 'rtyry', 'rtrt', 'rtrt', 'tyth', 'ererfd', 'trgf']\n"
     ]
    }
   ],
   "source": [
    "#  wapprogram to print fruites name take inpute to the user\n",
    "\n",
    "f1 = input(\"enter the fruit number 1: \")\n",
    "f2 = input(\"enter the fruit number 2: \")\n",
    "f3 = input(\"enter the fruit number 3: \")\n",
    "f4 = input(\"enter the fruit number 4: \")\n",
    "f5 = input(\"enter the fruit number 5: \")\n",
    "f6 = input(\"enter the fruit number 6: \")\n",
    "f7 = input(\"enter the fruit number 7: \")\n",
    "myfruiteList = [f1,f2,f3,f4,f5,f6,f7]\n",
    "\n",
    "print(myfruiteList)"
   ]
  },
  {
   "cell_type": "code",
   "execution_count": 2,
   "id": "44c6cb8b",
   "metadata": {},
   "outputs": [
    {
     "name": "stdout",
     "output_type": "stream",
     "text": [
      "enter the marks of the student 1: 33\n",
      "enter the marks of the student 2: 445\n",
      "enter the marks of the student 3: 6\n",
      "enter the marks of the student  4: 7\n",
      "enter the marks of the student  5: 767676\n",
      "enter the marks of the student 6: 87\n",
      "[6, 7, 33, 87, 445, 767676]\n"
     ]
    }
   ],
   "source": [
    "# wap to print student marks using inpute to the user and also in sorted form\n",
    "\n",
    "f1 =  int(input(\"enter the marks of the student 1: \"))\n",
    "f2 = int(input(\"enter the marks of the student 2: \"))\n",
    "f3 = int(input(\"enter the marks of the student 3: \"))\n",
    "f4 = int(input(\"enter the marks of the student  4: \"))\n",
    "f5 = int(input(\"enter the marks of the student  5: \"))\n",
    "f6 = int(input(\"enter the marks of the student 6: \"))\n",
    "\n",
    "marks = [f1,f2,f3,f4,f5,f6]\n",
    "marks.sort()\n",
    "print(marks)"
   ]
  },
  {
   "cell_type": "code",
   "execution_count": 3,
   "id": "b02a49bb",
   "metadata": {},
   "outputs": [
    {
     "ename": "TypeError",
     "evalue": "'tuple' object does not support item assignment",
     "output_type": "error",
     "traceback": [
      "\u001b[1;31m---------------------------------------------------------------------------\u001b[0m",
      "\u001b[1;31mTypeError\u001b[0m                                 Traceback (most recent call last)",
      "\u001b[1;32m~\\AppData\\Local\\Temp/ipykernel_2028/2799815953.py\u001b[0m in \u001b[0;36m<module>\u001b[1;34m\u001b[0m\n\u001b[0;32m      1\u001b[0m \u001b[1;31m# wap to check a tuple can not change in python\u001b[0m\u001b[1;33m\u001b[0m\u001b[1;33m\u001b[0m\u001b[0m\n\u001b[0;32m      2\u001b[0m \u001b[0ma\u001b[0m \u001b[1;33m=\u001b[0m \u001b[1;33m(\u001b[0m\u001b[1;36m12\u001b[0m\u001b[1;33m,\u001b[0m\u001b[1;36m34\u001b[0m\u001b[1;33m,\u001b[0m\u001b[1;36m54\u001b[0m\u001b[1;33m,\u001b[0m\u001b[1;36m32\u001b[0m\u001b[1;33m,\u001b[0m\u001b[1;36m13\u001b[0m\u001b[1;33m)\u001b[0m\u001b[1;33m\u001b[0m\u001b[1;33m\u001b[0m\u001b[0m\n\u001b[1;32m----> 3\u001b[1;33m \u001b[0ma\u001b[0m\u001b[1;33m[\u001b[0m\u001b[1;36m0\u001b[0m\u001b[1;33m]\u001b[0m \u001b[1;33m=\u001b[0m \u001b[1;36m11\u001b[0m\u001b[1;33m\u001b[0m\u001b[1;33m\u001b[0m\u001b[0m\n\u001b[0m",
      "\u001b[1;31mTypeError\u001b[0m: 'tuple' object does not support item assignment"
     ]
    }
   ],
   "source": [
    "# wap to check a tuple can not change in python\n",
    "a = (12,34,54,32,13)\n",
    "a[0] = 11"
   ]
  },
  {
   "cell_type": "code",
   "execution_count": 8,
   "id": "02ea6348",
   "metadata": {},
   "outputs": [
    {
     "name": "stdout",
     "output_type": "stream",
     "text": [
      "145\n",
      "145\n"
     ]
    }
   ],
   "source": [
    "# wap to add a list\n",
    "list = [2,3,44,33,22]\n",
    "print(a[0] + a[1] + a[2] + a[3] + a[4])\n",
    "   # Or\n",
    "print(sum(a))\n"
   ]
  },
  {
   "cell_type": "code",
   "execution_count": 9,
   "id": "a1b82c12",
   "metadata": {},
   "outputs": [
    {
     "name": "stdout",
     "output_type": "stream",
     "text": [
      "3\n"
     ]
    }
   ],
   "source": [
    "#  count zero in the tuple\n",
    "a = (7,0,8,0,0,9)\n",
    "print(a.count(0))"
   ]
  },
  {
   "cell_type": "code",
   "execution_count": 5,
   "id": "4be2031d",
   "metadata": {},
   "outputs": [
    {
     "name": "stdout",
     "output_type": "stream",
     "text": [
      "in a quick manner\n",
      "[33, 44]\n",
      "{'sachin': 'Cricketr'}\n"
     ]
    }
   ],
   "source": [
    "# Dictionary\n",
    "myDict = {\n",
    "    \"Fast\": \"in a quick manner\",\n",
    "    \"Marks\": [1,2,4,3],\n",
    "    \"anotherdict\": {'sachin': 'Cricketr'}\n",
    "}\n",
    "print(myDict['Fast'])\n",
    "myDict['Marks'] = [33,44]  # we can change the list\n",
    "print(myDict['Marks'])\n",
    "print(myDict['anotherdict'])\n",
    "\n"
   ]
  },
  {
   "cell_type": "code",
   "execution_count": 14,
   "id": "05237021",
   "metadata": {},
   "outputs": [
    {
     "name": "stdout",
     "output_type": "stream",
     "text": [
      "['Fast', 'Marks', 'anotherdict']\n",
      "dict_values(['in a quick manner', [1, 2, 4, 3], {'sachin': 'Cricketr'}])\n",
      "dict_items([('Fast', 'in a quick manner'), ('Marks', [1, 2, 4, 3]), ('anotherdict', {'sachin': 'Cricketr'})])\n",
      "{'Fast': 'in a quick manner', 'Marks': [1, 2, 4, 3], 'anotherdict': {'sachin': 'Cricketr'}, 'shreya': 'friend'}\n",
      "None\n",
      "in a quick manner\n"
     ]
    }
   ],
   "source": [
    "# Dictionary_methods\n",
    "myDict = {\n",
    "    \"Fast\": \"in a quick manner\",\n",
    "    \"Marks\": [1,2,4,3],\n",
    "    \"anotherdict\": {'sachin': 'Cricketr'}\n",
    "    \n",
    "}\n",
    "print(list(myDict.keys()))  # print the keys of the dictionary\n",
    "print(myDict.values())      # print the values of the dictionary\n",
    "print(myDict.items())       # print the (key,value) for all the items of the items of the dictionary\n",
    "\n",
    "#update dictionary\n",
    "\n",
    "\n",
    "updatemyDict = {\n",
    "    \"shreya\": \"friend\"\n",
    "}\n",
    "myDict.update(updatemyDict)\n",
    "print(myDict)\n",
    "\n",
    "# the deffrence between .get and  [] syntex in the directory\n",
    "print(myDict.get(\"Fast5\"))  #return none as shreya5 isnot present the dictionary\n",
    "print(myDict[\"Fast\"])\n",
    "\n",
    "\n",
    "\n",
    "\n"
   ]
  },
  {
   "cell_type": "code",
   "execution_count": 25,
   "id": "eb09b436",
   "metadata": {},
   "outputs": [
    {
     "name": "stdout",
     "output_type": "stream",
     "text": [
      "<class 'set'>\n",
      "{3, 4, 6, 7, (2, 5, 4)}\n",
      "5\n",
      "{4, 6, 7, (2, 5, 4)}\n",
      "4\n",
      "{6, 7, (2, 5, 4)}\n",
      "None\n"
     ]
    }
   ],
   "source": [
    "# creating sets\n",
    "b = set()\n",
    "print(type(b))\n",
    "\n",
    "#adding a value in the empty set\n",
    "b.add(4)\n",
    "b.add(3)\n",
    "b.add(6)\n",
    "b.add(7)             # repeated value does include only single time \n",
    "b.add((2,5,4))       # *** In the set we can use tuple but we can not use dict. or list ***\n",
    "print(b)\n",
    "\n",
    "# set function\n",
    "\n",
    "print(len(b))        # print the length of the set\n",
    "\n",
    "b.remove(3)          # you can remove by using this function\n",
    "print(b)\n",
    "\n",
    "print(b.pop())\n",
    "print(b)\n",
    "\n",
    "b.clear()\n",
    "print(b)\n",
    "\n",
    "\n"
   ]
  },
  {
   "cell_type": "code",
   "execution_count": 31,
   "id": "954b4b69",
   "metadata": {},
   "outputs": [
    {
     "name": "stdout",
     "output_type": "stream",
     "text": [
      "options are  dict_keys(['kursi', 'kapde', 'pani'])\n",
      "Enter the hindi word\n",
      "kursi\n",
      "the meaning if the word in english chair\n"
     ]
    }
   ],
   "source": [
    "# wap to create a dictionary of \n",
    "myDict = {\n",
    "    \"kursi\": \"chair\",\n",
    "    \"kapde\": \"cloths\",\n",
    "    \"pani\":  \"water\",\n",
    "}\n",
    "print(\"options are \", myDict.keys())\n",
    "\n",
    "a = input(\"Enter the hindi word\\n\")\n",
    "print(\"the meaning if the word in english is \", myDict[a])"
   ]
  },
  {
   "cell_type": "code",
   "execution_count": null,
   "id": "508cd23a",
   "metadata": {},
   "outputs": [],
   "source": [
    "# wap to input number from the user and display all the unique number\n",
    "num1 = int(input(\"Enter the number 1\\n \"))\n",
    "num2 = int(input(\"Enter the number 2\\n \"))\n",
    "num3 = int(input(\"Enter the number 3\\n \"))\n",
    "num4 = int(input(\"Enter the number 4\\n \"))\n",
    "num5 = int(input(\"Enter the number 5\\n \"))\n",
    "num6 = int(input(\"Enter the number 6\\n \"))\n",
    "s = {num1,num2,num3,num4,num5,num6}\n",
    "print(s)"
   ]
  },
  {
   "cell_type": "code",
   "execution_count": 4,
   "id": "6f02d151",
   "metadata": {},
   "outputs": [
    {
     "name": "stdout",
     "output_type": "stream",
     "text": [
      "{'18', 18}\n"
     ]
    }
   ],
   "source": [
    "# we can make a set with int 11 and str 11\n",
    "b = {18,\"18\"}\n",
    "print(b)"
   ]
  },
  {
   "cell_type": "code",
   "execution_count": 5,
   "id": "896baee5",
   "metadata": {},
   "outputs": [
    {
     "name": "stdout",
     "output_type": "stream",
     "text": [
      "2\n"
     ]
    }
   ],
   "source": [
    "s = {20,20.0,\"20\"}\n",
    "print(len(s))"
   ]
  },
  {
   "cell_type": "code",
   "execution_count": 6,
   "id": "c6628104",
   "metadata": {},
   "outputs": [
    {
     "name": "stdout",
     "output_type": "stream",
     "text": [
      "<class 'dict'>\n"
     ]
    }
   ],
   "source": [
    "# howtodefine empty dictionary\n",
    "s ={}\n",
    "print(type(s))"
   ]
  },
  {
   "cell_type": "code",
   "execution_count": 11,
   "id": "bce63826",
   "metadata": {},
   "outputs": [
    {
     "name": "stdout",
     "output_type": "stream",
     "text": [
      "Enter your favorite language shubham676\n",
      "Enter your favorite language sachintyht\n",
      "Enter your favorite language aakashyt\n",
      "Enter your favorite lamguage manojtfrtg\n",
      "{'shubham': '676', 'sachin': 'tyht', 'aaksh': 'yt', 'manopj': 'tfrtg'}\n"
     ]
    }
   ],
   "source": [
    "favLeng = {}\n",
    "a = input(\"Enter your favorite language shubham\")\n",
    "b = input(\"Enter your favorite language sachin\")\n",
    "c = input(\"Enter your favorite language aakash\")\n",
    "d = input(\"Enter your favorite lamguage manoj\")\n",
    "favLeng['shubham'] = a\n",
    "favLeng['sachin'] = b\n",
    "favLeng['aaksh'] = c\n",
    "favLeng['manopj'] = d\n",
    "print(favLeng)\n"
   ]
  },
  {
   "cell_type": "code",
   "execution_count": 21,
   "id": "c7102ad9",
   "metadata": {},
   "outputs": [
    {
     "name": "stdout",
     "output_type": "stream",
     "text": [
      "The value is greater than 5\n",
      "value less then 5\n",
      "The value s equal to a\n"
     ]
    }
   ],
   "source": [
    "# conditional expression\n",
    "a = 12\n",
    "if(a>5):\n",
    "    print(\"The value is greater than 5\")\n",
    "if(a>7):\n",
    "    print(\"value less then 5\")\n",
    "if(a<5):\n",
    "    print(\"value less then 5\")\n",
    "if(a<5):\n",
    "    print(\"value less then 5\")\n",
    "else:\n",
    "    print(\"The value s equal to a\")"
   ]
  },
  {
   "cell_type": "code",
   "execution_count": 5,
   "id": "991cd49d",
   "metadata": {},
   "outputs": [],
   "source": [
    "# India = int(input(\"Enter the score of india \\n\"))\n",
    "# Pakistan = int(input(\"Enter the score of pakistan \\n\"))\n",
    "# England = int(onput(\"Enter the score of england \\n\"))\n",
    "# Austrelia = int(input(\"Enter the score of austrelia \\n\")\n",
    "\n",
    "# if(India>Pakistan):\n",
    "#                 f1 = print(\"india enters in the semis\")\n",
    "# else:\n",
    "#                 f1 = print(\"pak enters the semis\")\n",
    "\n",
    "# if(Austrelia>England):\n",
    "#                 f2 = print(\"Aus enters the semis\")\n",
    "# else:\n",
    "#                 f2 = print(\"england enters the semis\")\n",
    "# if(f1>f2):\n",
    "#                 print(str(f1) + \"is won final\")\n",
    "# else:\n",
    "#                 print(str(f1) + \"is won the final\")\n",
    "                \n"
   ]
  },
  {
   "cell_type": "code",
   "execution_count": 1,
   "id": "d849a2c4",
   "metadata": {},
   "outputs": [
    {
     "name": "stdout",
     "output_type": "stream",
     "text": [
      "Enter number1: 44\n",
      "Enter number2: 545\n",
      "Enmter number3:66\n",
      "Enter number4: 88\n",
      "545 is greatest\n"
     ]
    }
   ],
   "source": [
    "# write a program to find greatest of four number entered bythe user\n",
    "num1 = int(input(\"Enter number1: \"))\n",
    "num2 = int(input(\"Enter number2: \"))\n",
    "num3 = int(input(\"Enmter number3:\"))\n",
    "num4 = int(input(\"Enter number4: \"))\n",
    "\n",
    "if(num1>num2):\n",
    "    f1 = num1\n",
    "else:\n",
    "    f1 = num2\n",
    "    \n",
    "if(num3>num4):\n",
    "    f2 = num3\n",
    "else:\n",
    "    f2 = num4\n",
    "    \n",
    "if(f1>f2):\n",
    "    print(str(f1)+ \" is greatest\")\n",
    "else:\n",
    "    print(str(f2)+ \" is greatest\")\n",
    "    "
   ]
  },
  {
   "cell_type": "code",
   "execution_count": null,
   "id": "1b6a72e3",
   "metadata": {},
   "outputs": [],
   "source": [
    "#  write a program to find put weather a student is pass or fail if requires total 40% andatleat 33% ineach subject to passasume 3 subject andtake markis as aninput from the user\n",
    "\n",
    "sub1 = int(input(\"Enter first suject marks\\n\"))\n",
    "sub2 = int(input(\"Enter second suject marks\\n\"))\n",
    "sub3 = int(input(\"Enter third suject marks\\n\"))\n",
    "\n",
    "if(sub1<22 or sub2<33 or sub3<33 ):\n",
    "    print(\"You are fail\")\n",
    "    \n",
    "elif(sub1+sub2+sub3)/3 <40:\n",
    "    print(\"You are fail due low percentage\")\n",
    "else:\n",
    "    print(\"Congratulation! you arepassed\")"
   ]
  },
  {
   "cell_type": "code",
   "execution_count": 3,
   "id": "328acf9b",
   "metadata": {},
   "outputs": [
    {
     "name": "stdout",
     "output_type": "stream",
     "text": [
      "enter the textyou are best\n",
      "this text is spam\n"
     ]
    }
   ],
   "source": [
    "#  Spam comment\n",
    "\n",
    "text = input(\"enter the text\" )\n",
    "if(\"make money alot\"):\n",
    "    spam=True\n",
    "elif(\"buy now\" in text):\n",
    "    spam= True\n",
    "elif(\"subscribe this\" in text):\n",
    "    spam=True\n",
    "else:\n",
    "    spam=False\n",
    "    \n",
    "if(spam):\n",
    "    print(\"this text is spam\")\n",
    "else:\n",
    "    print(\"this is not spam\")\n",
    "    \n",
    "    "
   ]
  },
  {
   "cell_type": "code",
   "execution_count": 3,
   "id": "0c857c16",
   "metadata": {},
   "outputs": [
    {
     "name": "stdout",
     "output_type": "stream",
     "text": [
      "eter the textanil\n",
      "Name contain 10 letters\n"
     ]
    }
   ],
   "source": [
    "# wap to print 10 word presnt or not \n",
    "Name = input(\"enter the text\")\n",
    "len = len(Name)\n",
    "if(len<10):\n",
    "    print(\"Name contain 10 letters\")\n",
    "else:\n",
    "    print(\"Name not contian 10 words\")"
   ]
  },
  {
   "cell_type": "code",
   "execution_count": 7,
   "id": "543e3f10",
   "metadata": {},
   "outputs": [
    {
     "name": "stdout",
     "output_type": "stream",
     "text": [
      "Enter the name to the check\n",
      "shanu\n",
      "Your name is not ppresent in the list\n"
     ]
    }
   ],
   "source": [
    "# find name present in the list or not \n",
    "names = [\"anushka\", \"priya\",\"shivi\",\"pihu\",\"rohan\"]\n",
    "name = input(\"Enter the name to the check\\n\")\n",
    "\n",
    "if name in names:\n",
    "    print(\"Your name is present in the list\")\n",
    "else:\n",
    "    print(\"Your name is not present in the list\")"
   ]
  },
  {
   "cell_type": "code",
   "execution_count": 9,
   "id": "72c0c252",
   "metadata": {},
   "outputs": [
    {
     "name": "stdout",
     "output_type": "stream",
     "text": [
      "ENter the marks\n",
      "88\n",
      "your grade is A\n"
     ]
    }
   ],
   "source": [
    "# wap to calculate \n",
    "marks = int(input(\"Enter the marks\\n\"))\n",
    "\n",
    "if(marks>=90):\n",
    "    grade = \"ex\"\n",
    "    \n",
    "elif(marks>=80):\n",
    "    grade = \"A\"\n",
    "elif(marks>=70):\n",
    "    grade = \"B\"\n",
    "elif(marks>=60):\n",
    "    grade = \"c\"\n",
    "elif(marks>=50):\n",
    "    grade = \"D\"\n",
    "else:\n",
    "    grade = \"F\"\n",
    "    \n",
    "print(\"your grade is \" + grade)"
   ]
  },
  {
   "cell_type": "code",
   "execution_count": 14,
   "id": "ed7be347",
   "metadata": {},
   "outputs": [
    {
     "name": "stdout",
     "output_type": "stream",
     "text": [
      "Emter the post anil\n",
      "post is about anil\n"
     ]
    }
   ],
   "source": [
    "post = input(\"Enter the post \")\n",
    "strFind = \"anil\"\n",
    "#  post = post.lower()\n",
    "    \n",
    "if(strFind in post):\n",
    "    print(\"post is about anil\")\n",
    "else:\n",
    "    print(\"post is not about anil\")"
   ]
  },
  {
   "cell_type": "code",
   "execution_count": null,
   "id": "6f6c7f52",
   "metadata": {},
   "outputs": [],
   "source": [
    "# Loops\n",
    "\n"
   ]
  }
 ],
 "metadata": {
  "kernelspec": {
   "display_name": "Python 3 (ipykernel)",
   "language": "python",
   "name": "python3"
  },
  "language_info": {
   "codemirror_mode": {
    "name": "ipython",
    "version": 3
   },
   "file_extension": ".py",
   "mimetype": "text/x-python",
   "name": "python",
   "nbconvert_exporter": "python",
   "pygments_lexer": "ipython3",
   "version": "3.9.7"
  }
 },
 "nbformat": 4,
 "nbformat_minor": 5
}
